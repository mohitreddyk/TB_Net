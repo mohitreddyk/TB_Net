{
 "cells": [
  {
   "cell_type": "markdown",
   "metadata": {},
   "source": [
    "# SVM"
   ]
  },
  {
   "cell_type": "code",
   "execution_count": 4,
   "metadata": {},
   "outputs": [],
   "source": [
    "import numpy as np         # dealing with arrays\n",
    "import os                  # dealing with directories\n",
    "from random import shuffle # mixing up or currently ordered data that might lead our network astray in training.\n",
    "from tqdm import tqdm      # a nice pretty percentage bar for tasks. Thanks to viewer Daniel BA1/4hler for this suggestion\n",
    "import pandas as pd\n",
    "from skimage import io\n",
    "import torch\n",
    "from torchvision import utils, models\n",
    "from torchvision.transforms import transforms\n",
    "import matplotlib.pyplot as plt\n",
    "#from torch.utils.data import Dataset, DataLoader\n",
    "from LungDataset import LungDataset\n",
    "from torch.autograd import Variable\n",
    "from utils import Net,Net1,NewNet\n",
    "from torch import nn\n",
    "import cv2"
   ]
  },
  {
   "cell_type": "code",
   "execution_count": 3,
   "metadata": {},
   "outputs": [],
   "source": [
    "# Data load\n",
    "\n",
    "TRAIN_DIR = './data/data'\n",
    "TEST_DIR = './data/test_data'\n",
    "csv_file_train= 'train.csv' #with salient and normal.\n",
    "csv_file_test= 'test.csv' #with salient and normal.\n",
    "#TRAIN_DIR = './data/data_fine'\n",
    "#TEST_DIR = './data/test_data_fine'\n",
    "#csv_file_train= 'train_finetune.csv' #with salient and normal.\n",
    "#csv_file_test= 'test_finetune.csv' #with salient and normal."
   ]
  },
  {
   "cell_type": "code",
   "execution_count": 5,
   "metadata": {},
   "outputs": [],
   "source": [
    "epochs = 10\n",
    "batchSize=1"
   ]
  },
  {
   "cell_type": "code",
   "execution_count": 6,
   "metadata": {},
   "outputs": [],
   "source": [
    "transform = transforms.Compose([transforms.RandomResizedCrop(224),\n",
    "                                transforms.RandomHorizontalFlip(),\n",
    "                                transforms.ToTensor(),\n",
    "                                transforms.Normalize((0.5, 0.5, 0.5), (0.5, 0.5, 0.5))])\n",
    "\n",
    "DogCat_dataset_train = LungDataset(csv_file_train, TRAIN_DIR, transform)\n",
    "DogCat_dataset_test = LungDataset(csv_file_test, TEST_DIR, transform)\n"
   ]
  },
  {
   "cell_type": "code",
   "execution_count": null,
   "metadata": {},
   "outputs": [],
   "source": []
  }
 ],
 "metadata": {
  "kernelspec": {
   "display_name": "Python 3",
   "language": "python",
   "name": "python3"
  },
  "language_info": {
   "codemirror_mode": {
    "name": "ipython",
    "version": 3
   },
   "file_extension": ".py",
   "mimetype": "text/x-python",
   "name": "python",
   "nbconvert_exporter": "python",
   "pygments_lexer": "ipython3",
   "version": "3.6.0"
  }
 },
 "nbformat": 4,
 "nbformat_minor": 2
}
